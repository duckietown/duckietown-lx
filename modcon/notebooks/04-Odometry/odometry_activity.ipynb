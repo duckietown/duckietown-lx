{
 "cells": [
  {
   "cell_type": "markdown",
   "metadata": {},
   "source": [
    "<p style=\"text-align: center\">\n",
    "<img src=\"../../assets/images/dtlogo.png\" alt=\"Duckietown\" width=\"50%\">\n",
    "</p>"
   ]
  },
  {
   "cell_type": "markdown",
   "metadata": {},
   "source": [
    "# 🚙 💻 04 - Wheel encoder based odometry\n",
    "\n",
    "\"Odometry\" is the problem of \"measuring the path\", or evolution of the pose in time, of the robot. \n",
    "\n",
    "We can solve the odometry problem by using the measurements from wheel encoders, and a so called \"dead-reckoning\" model, to estimate the evolution of the pose in time through an iterative procedure, such that:\n",
    "\n",
    "<p style=\"text-align:center;\"><img src=\"../../assets/images/odometry/odometry-1.png\" width=\"500\" alt=\"odometry-1\"></p>   \n",
    "\n",
    "$$ x_{k+1} = x_k + \\Delta x_k $$\n",
    "$$ y_{k+1} = y_k + \\Delta y_k $$\n",
    "$$ \\theta_{k+1} = \\theta_k + \\Delta \\theta_k $$\n",
    "\n",
    "Where initial conditions ($x_0$, $y_0$, $\\theta_0$) are assumed to be known. The increments can be calculated by:\n",
    "\n",
    "1. **Determining the rotation of each wheel through the wheel encoder mesurements**\n",
    "\n",
    "$$\\Delta \\phi_k = N_k \\cdot \\alpha$$\n",
    "\n",
    "where $N_k$ is the number of pulses, or \"ticks\", measured from the encoders in the $k-th$ time interval, $\\alpha = \\frac{2 \\pi}{N_{tot}}$ is the rotation per tick, and $N_{tot}$ the total number of ticks per revolution ($N_{tot} = 135$ for the wheel encoders we will be using). This relation is evaluated for each wheel, yielding $\\Delta \\phi_{l,k}$ and $\\Delta \\phi_{r,k}$ for the left and right wheels respectively.\n",
    "\n",
    "2. **Deriving the total distance travelled by each wheel**\n",
    "\n",
    "<p style=\"text-align:center;\"><img src=\"../../assets/images/odometry/odometry-d.png\" width=\"250\" alt=\"odometry-d\"></p> \n",
    "\n",
    "Assuming the wheel radii are the same (equal to $R$) for both wheels, the distance travelled by each wheel is given by:\n",
    "\n",
    "$$ d_{l/r, k} = R \\cdot \\Delta \\phi_{l/r,k}$$\n",
    "\n",
    "3. **Finding the rotation and distance travelled by the robot (frame)**\n",
    "\n",
    "<p style=\"text-align:center;\"><img src=\"../../assets/images/odometry/odometry-2.png\" width=\"250\" alt=\"odometry-2\"></p>    \n",
    "\n",
    "Under the assumption of no slipping of the robot wheels, we can derive the distance travelled by the origin of the robot frame (point $A$) and the rotation of the robot $\\Delta \\theta$:\n",
    "\n",
    "$$ d_{A, k} = \\frac{d_{r,k} + d_{l,k}}{2} $$\n",
    "$$ \\Delta \\theta_{k} = \\frac{d_{r,k} - d_{l,k}}{2L}$$\n",
    "\n",
    "4. **Expressing the robot motion in the world reference frame**\n",
    "\n",
    "<p style=\"text-align:center;\"><img src=\"../../assets/images/odometry/odometry-3.png\" width=\"250\" alt=\"odometry-3\"></p>\n",
    "\n",
    "Finally, we can express the estimated motion in the world reference frame and find:\n",
    "\n",
    "$$ \\Delta x_k = d_{A, k} \\cos\\theta_k $$\n",
    "$$ \\Delta y_k = d_{A, k} \\sin\\theta_k $$"
   ]
  },
  {
   "cell_type": "markdown",
   "metadata": {},
   "source": [
    "# 🚙 💻 Let's get started!\n",
    "\n",
    "In this activity you will write a function that produces an estimate of the pose of the Duckiebot, given mesurements from the wheel encoders and an initial position:"
   ]
  },
  {
   "cell_type": "code",
   "execution_count": 7,
   "metadata": {
    "collapsed": false,
    "pycharm": {
     "name": "#%%\n"
    }
   },
   "outputs": [
    {
     "name": "stdout",
     "output_type": "stream",
     "text": [
      "The autoreload extension is already loaded. To reload it, use:\n",
      "  %reload_ext autoreload\n"
     ]
    }
   ],
   "source": [
    "# Run and do not edit this magic cell. \n",
    "# It helps getting things to work throughout the Jupyter notebook - in particular importing changes in functions made in files other than this workspace.\n",
    "\n",
    "%load_ext autoreload\n",
    "%autoreload 2"
   ]
  },
  {
   "cell_type": "code",
   "execution_count": 8,
   "metadata": {},
   "outputs": [
    {
     "name": "stdout",
     "output_type": "stream",
     "text": [
      "0.0 0.0 0.0\n"
     ]
    }
   ],
   "source": [
    "import numpy as np\n",
    "\n",
    "x0 = y0 = 0.0 # meters\n",
    "theta0 = np.deg2rad(0) # radians\n",
    "\n",
    "print(x0,y0, theta0)"
   ]
  },
  {
   "cell_type": "markdown",
   "metadata": {},
   "source": [
    "## 1. Determining the rotation of each wheel through the wheel encoder mesurements\n",
    "\n",
    "We have seen how to read wheel encoder data in the [wheel encoder tutorial](../../notebooks/03-Wheel-Encoders-Tutorial/wheel_encoders_tutorial.ipynb). We can now use this data to measure the rotation of each wheel. \n",
    "\n",
    "### Wheel encoder calibration factor\n",
    "\n",
    "Remember that there are 135 ticks per revolution on the wheel encoders we are using. "
   ]
  },
  {
   "cell_type": "code",
   "execution_count": 9,
   "metadata": {},
   "outputs": [
    {
     "name": "stdout",
     "output_type": "stream",
     "text": [
      "The angular resolution of our encoders is: 2.6666666666666665 degrees\n"
     ]
    }
   ],
   "source": [
    "# Write the correct expressions \n",
    "import numpy as np \n",
    "\n",
    "N_tot = 135 # total number of ticks per revolution\n",
    "alpha = 2 * np.pi / N_tot # wheel rotation per tick in radians\n",
    "\n",
    "print(f\"The angular resolution of our encoders is: {np.rad2deg(alpha)} degrees\")"
   ]
  },
  {
   "cell_type": "markdown",
   "metadata": {},
   "source": [
    "Assume that at the current update the left and right motor encoders have produced the following measurements:"
   ]
  },
  {
   "cell_type": "code",
   "execution_count": 10,
   "metadata": {},
   "outputs": [],
   "source": [
    "# Feel free to play with the numbers to get an idea of the expected outcome\n",
    "\n",
    "ticks_left = 1\n",
    "prev_tick_left = 0\n",
    "\n",
    "ticks_right = 0\n",
    "prev_tick_right = 0"
   ]
  },
  {
   "cell_type": "markdown",
   "metadata": {},
   "source": [
    "How much did each wheel rotate? "
   ]
  },
  {
   "cell_type": "code",
   "execution_count": 11,
   "metadata": {},
   "outputs": [
    {
     "ename": "TypeError",
     "evalue": "loop of ufunc does not support argument 0 of type NoneType which has no callable rad2deg method",
     "output_type": "error",
     "traceback": [
      "\u001b[0;31m---------------------------------------------------------------------------\u001b[0m",
      "\u001b[0;31mAttributeError\u001b[0m                            Traceback (most recent call last)",
      "\u001b[0;31mAttributeError\u001b[0m: 'NoneType' object has no attribute 'rad2deg'",
      "\nThe above exception was the direct cause of the following exception:\n",
      "\u001b[0;31mTypeError\u001b[0m                                 Traceback (most recent call last)",
      "Cell \u001b[0;32mIn[11], line 12\u001b[0m\n\u001b[1;32m      9\u001b[0m rotation_wheel_left \u001b[38;5;241m=\u001b[39m \u001b[38;5;28;01mNone\u001b[39;00m \u001b[38;5;66;03m# total rotation of left wheel \u001b[39;00m\n\u001b[1;32m     10\u001b[0m rotation_wheel_right \u001b[38;5;241m=\u001b[39m \u001b[38;5;28;01mNone\u001b[39;00m \u001b[38;5;66;03m# total rotation of right wheel \u001b[39;00m\n\u001b[0;32m---> 12\u001b[0m \u001b[38;5;28mprint\u001b[39m(\u001b[38;5;124mf\u001b[39m\u001b[38;5;124m\"\u001b[39m\u001b[38;5;124mThe left wheel rotated: \u001b[39m\u001b[38;5;132;01m{\u001b[39;00mnp\u001b[38;5;241m.\u001b[39mrad2deg(rotation_wheel_left)\u001b[38;5;132;01m}\u001b[39;00m\u001b[38;5;124m degrees\u001b[39m\u001b[38;5;124m\"\u001b[39m)\n\u001b[1;32m     13\u001b[0m \u001b[38;5;28mprint\u001b[39m(\u001b[38;5;124mf\u001b[39m\u001b[38;5;124m\"\u001b[39m\u001b[38;5;124mThe right wheel rotated: \u001b[39m\u001b[38;5;132;01m{\u001b[39;00mnp\u001b[38;5;241m.\u001b[39mrad2deg(rotation_wheel_right)\u001b[38;5;132;01m}\u001b[39;00m\u001b[38;5;124m degrees\u001b[39m\u001b[38;5;124m\"\u001b[39m)\n",
      "\u001b[0;31mTypeError\u001b[0m: loop of ufunc does not support argument 0 of type NoneType which has no callable rad2deg method"
     ]
    }
   ],
   "source": [
    "# How much would the wheels rotate with the above tick measurements? \n",
    "\n",
    "# Repetita iuvant: don't confuse degrees and radians when expressing angles\n",
    "# Machines always use radians, humans make sense of degrees better. \n",
    "# Mixing these up is a very very common source of error!\n",
    "\n",
    "delta_ticks_left = None # delta ticks of left wheel \n",
    "delta_ticks_right = None # delta ticks of right wheel \n",
    "rotation_wheel_left = None # total rotation of left wheel \n",
    "rotation_wheel_right = None # total rotation of right wheel \n",
    "\n",
    if rotation_wheel_left is not None:
       left_degrees = np.rad2deg(rotation_wheel_left)
    else:
       left_degrees = "unknown"
    if rotation_wheel_right is not None:
       right_degrees = np.rad2deg(rotation_wheel_right)
    else:
       right_degrees = "unknown"
     "\n",
    "print(f\"The left wheel rotated: (left degrees)} degrees\")\n",
    "print(f\"The right wheel rotated:(right degrees)} degrees\")"
   ]
  },
  {
   "cell_type": "markdown",
   "metadata": {},
   "source": [
    "## 2. 🚙 💻 Evaluate distance travelled by each wheel\n",
    "\n",
    "Now let's calculate the distance travelled by each wheel. It depends on the wheel radii. We need to determine them! We could use advanced odometry calibration procedures, but let's take it a step at the time. \n",
    "\n",
    "If you have a robot, take a ruler and measure your wheel radii (let's assume they are the same):"
   ]
  },
  {
   "cell_type": "code",
   "execution_count": 12,
   "metadata": {},
   "outputs": [],
   "source": [
    "# What is the radius of your wheels (assuming they are identical)? \n",
    "\n",
    "R = 0.0318 # insert value measured by ruler (meters)"
   ]
  },
  {
   "cell_type": "markdown",
   "metadata": {},
   "source": [
    "Note: the default value used in simulation and on the robot is $R = 0.0318 \\text{m}$."
   ]
  },
  {
   "cell_type": "code",
   "execution_count": null,
   "metadata": {},
   "outputs": [],
   "source": [
    "# What is the distance travelled by each wheel?\n",
    "\n",
    "d_left = None\n",
    "d_right = None\n",
    "\n",
    "print(f\"The left wheel travelled: {d_left} meters\")\n",
    "print(f\"The right wheel rotated: {d_right} meters\")"
   ]
  },
  {
   "cell_type": "markdown",
   "metadata": {},
   "source": [
    "### 🚙 Save your new value of `R`\n",
    "\n",
    "If you have a Duckiebot, let's make sure it remembers its new wheel radius! You should already know how to do this from [wheel calibration tutorial](../02-Wheel-Calibration/wheels_calibration.ipynb). \n",
    "\n",
    "Power you Duckiebot on, make sure it is connected to the network and you can ping it, then open a terminal **on your computer** and type:\n",
    "\n",
    "    dts start_gui_tools ROBOTNAME\n",
    "    \n",
    "    rosparam set /ROBOTNAME/kinematics_node/radius R-value\n",
    "    \n",
    "where `R-value` is the value of the wheel radius you measured (expressed in meters). You can then save it with: \n",
    "\n",
    "    rosservice call /ROBOTNAME/kinematics_node/save_calibration\n",
    "    \n",
    "and finally verify that it has been saved by opening the `ROBOTNAME.yaml` file in your Dashboard > File Manager > Calibrations > Kinematics page.\n",
    "\n",
    "You can keep the terminal you just used open, so we can save the baseline measurement too. Let's keep going!"
   ]
  },
  {
   "cell_type": "markdown",
   "metadata": {},
   "source": [
    "## 3. 🚙 💻 Find the rotation and distance travelled by the Duckiebot\n",
    "\n",
    "If you have previoulsy set your robot's gain so that the wheels do not slip, the travelled distance of point $A$ (origin of the robot frame) will be given by the average of the distances travelled by the wheels:"
   ]
  },
  {
   "cell_type": "code",
   "execution_count": null,
   "metadata": {},
   "outputs": [],
   "source": [
    "# How much has the robot travelled? \n",
    "\n",
    "d_A = None # robot distance travelled in robot frame (meters)\n",
    "\n",
    "print(f\"The robot has travelled: {d_A} meters\")"
   ]
  },
  {
   "cell_type": "markdown",
   "metadata": {},
   "source": [
    "To calculate the rotation of the robot we need to measure the baseline too - or the distance between the center of the two wheels: \n",
    "\n",
    "<p style=\"text-align:center;\"><img src=\"../../assets/images/odometry/odometry-baseline.png\" width=\"300\" alt=\"odometry-baseline\"></p>  \n",
    "\n",
    "If you have a robot, take a ruler and measure it! "
   ]
  },
  {
   "cell_type": "code",
   "execution_count": 13,
   "metadata": {},
   "outputs": [],
   "source": [
    "# What is the baseline length of your robot? \n",
    "\n",
    "baseline_wheel2wheel = 0.1 #  Take a ruler and measure the distance between the center of the two wheels (meters) "
   ]
  },
  {
   "cell_type": "markdown",
   "metadata": {},
   "source": [
    "Note: the default value, and that used in simulation, is $baseline = 0.1m$."
   ]
  },
  {
   "cell_type": "markdown",
   "metadata": {},
   "source": [
    "We are now ready to calculate the rotation of the Duckiebot:"
   ]
  },
  {
   "cell_type": "code",
   "execution_count": null,
   "metadata": {},
   "outputs": [],
   "source": [
    "# Of what angle has the robot rotated? \n",
    "\n",
    "Delta_Theta = None # [radians]\n",
    "\n",
    "print(f\"The robot has rotated: {np.rad2deg(Delta_Theta)} degrees\")"
   ]
  },
  {
   "cell_type": "markdown",
   "metadata": {},
   "source": [
    "### 🚙 Save your new value of `baseline`\n",
    "\n",
    "Let's make sure it remembers its new wheel baseline! You should already know how to do this from [wheel calibration tutorial](../02-Wheel-Calibration/wheels_calibration.ipynb). \n",
    "\n",
    "Power you Duckiebot on, make sure it is connected to the network and you can ping it, then open a terminal **on your computer** and type:\n",
    "\n",
    "    dts start_gui_tools ROBOTNAME\n",
    "    \n",
    "    rosparam set /ROBOTNAME/kinematics_node/baseline baseline-value\n",
    "    \n",
    "where `baseline-value` is the value of `baseline_wheel2wheel` you just measured (expressed in meters). You can then save it with: \n",
    "\n",
    "    rosservice call /ROBOTNAME/kinematics_node/save_calibration\n",
    "    \n",
    "and finally verify that it has been saved by opening the `ROBOTNAME.yaml` file in your Dashboard > File Manager > Calibrations > Kinematics page."
   ]
  },
  {
   "cell_type": "markdown",
   "metadata": {
    "tags": [
     "skip"
    ]
   },
   "source": [
    "# 💻 🚙 Write the odometry function\n",
    "\n",
    "We have been practicing so far. \n",
    "\n",
    "Now it is time to write the functions that will actually be running on the robot (in simulation or on the physical one). \n",
    "\n",
    "You will write two functions:\n",
    "\n",
    "1. A function that calculates the rotation of a wheel given a message from the wheel encoders and the previous number of ticks measured;\n",
    "\n",
    "2. The actual odometry function, that will receive as inputs the kinematic model parameters, the pose estimate at the previous iteration, and the rotation of each wheel. The initial position is assumed to be $q_0 = [0,0,0]^T$."
   ]
  },
  {
   "cell_type": "markdown",
   "metadata": {},
   "source": [
    "## Calculating the rotation of each wheel\n",
    "\n",
    "Implement the function `delta_phi` inside the file [odometry_activity.py](../../packages/solution/odometry_activity.py).\n",
    "\n",
    "This function should output the wheel rotation (in radians) since last measurements, receiving as input the current and previous update wheel encoder readings."
   ]
  },
  {
   "cell_type": "markdown",
   "metadata": {},
   "source": [
    "## Estimating the odometry\n",
    "\n",
    "Implement the function `pose_estimation` inside the file [odometry_activity.py](../../packages/solution/odometry_activity.py).\n",
    "This function computes the `(x, y, theta)` estimate by aggregating computed wheel rotations and the (known) geometry of the robot."
   ]
  },
  {
   "cell_type": "markdown",
   "metadata": {},
   "source": [
    "### Test the `pose_estimation()` function\n",
    "\n",
    "Unit tests are useful to check if a piece of code does its intended job. Although the interaction of different functions might yield surprises even when each function produces the expected outcome, it is good pratice to test them in isolation before prime time! These are called \"unit tests\", and:\n",
    "\n",
    "> If it ain't tested, it's broken.\n",
    ">\n",
    "> --Roboticists, level 9\n",
    "\n",
    "Let's see if the function you wrote above passes the following test!"
   ]
  },
  {
   "cell_type": "code",
   "execution_count": 14,
   "metadata": {},
   "outputs": [
    {
     "data": {
      "image/png": "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",
      "text/plain": [
       "<Figure size 640x480 with 1 Axes>"
      ]
     },
     "metadata": {},
     "output_type": "display_data"
    },
    {
     "data": {
      "text/plain": [
       "<tests.unit_test.UnitTestOdometry at 0x7f0f401d86a0>"
      ]
     },
     "execution_count": 14,
     "metadata": {},
     "output_type": "execute_result"
    }
   ],
   "source": [
    "from tests.unit_test import UnitTestOdometry\n",
    "\n",
    "from solution.odometry_activity import pose_estimation\n",
    "\n",
    "# UnitTestOdometry tests the `pose_estimation` function defined in odometry_activity.py.\n",
    "# The test is successful if you get a circle in the plot. \n",
    "# Anything different from a circle indicated that the odometry function has something wrong.\n",
    "\n",
    "UnitTestOdometry(R, baseline_wheel2wheel, pose_estimation)"
   ]
  },
  {
   "cell_type": "markdown",
   "metadata": {},
   "source": [
    "A successful test will yield something similar to this: \n",
    "\n",
    "<p style=\"text-align:center;\"><img src=\"../../assets/images/odometry/UnitTestValidation-2022.png\" width=\"800\" alt=\"successful-test-odometry\"></p>  \n"
   ]
  },
  {
   "cell_type": "markdown",
   "metadata": {
    "tags": [
     "skip"
    ]
   },
   "source": [
    "# 💻 🚙 Run the Activity\n",
    "\n",
    "Let's now see how the odometry is working in pratice. \n",
    "\n",
    "💻 🚙 The first objective of this activity is to run the scripts you just wrote on a simulated and real robot, and see how they perform. \n",
    "\n",
    "💡 The second objective is reflecting on the outcome and trying to have the theory agree with your observations. "
   ]
  },
  {
   "cell_type": "markdown",
   "metadata": {},
   "source": [
    "## 💻 Running the odometry in simulation\n",
    "\n",
    "1. Open a terminal on your computer, navigate to `/duckietown-lx/modcon/` and type \n",
    "\n",
    "       dts code build\n",
    "\n",
    "\n",
    "2. Wait for the build to finish, then type:\n",
    "\n",
    "       dts code workbench --sim\n",
    "\n",
    "\n",
    "3. Open VNC on you browser. \n",
    "\n",
    "4. Double-click on the \"Odometry\" icon on the Desktop\n",
    "\n",
    "<p style=\"text-align:center;\"><img src=\"../../assets/images/odometry/odometry_icon.png\" width=\"100\" alt=\"test-odometry-icon\"></p>  \n",
    "\n",
    "You will see three things opening: \n",
    "\n",
    "- a terminal\n",
    "- a pre-configured RVIZ window\n",
    "- a virtual joystick\n",
    "\n",
    "<figure>\n",
    "  <div style=\"text-align:center;\">\n",
    "  <img src=\"../../assets/images/odometry/od-sim-startup.png\" width=\"400\">\n",
    "  <p>Starting the Odometry activity.</p>\n",
    "  </div>\n",
    "</figure>\n",
    "\n",
    "In the RVIZ window you will see what your robot sees, and a reference frame in the gridmap. That frame represents the position and orientation of your robot, calculated _according to the `pose_estimation` and `delta_phi` functions written above_ (they are beliefs, not \"real\" states).\n",
    "\n",
    "**Note**: it may take some time (>30s) for the images and the odometry to appear, depending on the specifications of your host machine.  \n",
    "\n",
    "Tips: \n",
    "\n",
    "    - You can change the graphical settings of the reference frame (bigger, shorter, more or less frequently updated, etc.) through the Odometry > Shape options in the top left quadrant of the RVIZ window;\n",
    "    \n",
    "    - You can press `Alt` while clicking and dragging anywhere in the RVIZ terminal to move the window;\n",
    "    \n",
    "    - VNC opens with the resolution of your browser window when you launch it. If things look crammed, put your browser in full screen and re-copy and paste the URL. \n",
    "    \n",
    "    - The terminal on your computer will be streaming some debugging data, FYI. \n",
    "    \n",
    "5. Click on the virtual joystick and start driving. You will see the marker move too according to the wheel encoder data that the robot is receiving. You can monitor these (and other) messages by following the procedure learned in the [wheel encoders tutorial](../03-Wheel-Encoders-Tutorial/wheel_encoders_tutorial.ipynb). \n",
    "\n",
    "6. Drive as you wish (don't crash or you will have to restart!); we suggest doing a loop. Get back to the initial position and look at the resulting odometry. Is your robot's _belief_ accurate? Why, or why not? \n",
    "\n",
    "7. When you are satisfied with your experience and your odometry, `Ctrl-C` the terminal on your computer to stop VNC, or `Ctrl-C` your open terminal in VNC to go back to the desktop. \n",
    "\n",
    "Do you want to modify your odometry functions before proceeding? Change the cells above, `Ctrl-S` to save the page, and re-launch `dts code workbench --sim`. \n",
    "\n",
    "<!--\n",
    "<p style=\"text-align:center;\"><img src=\"../../assets/images/odometry/sim-odom-complete.png\" width=\"500\" alt=\"sim-odometry-complete\"></p> \n",
    "-->\n",
    "\n",
    "<div style=\"text-align:center;\">\n",
    "        <div style=\"text-align:center;\">\n",
    "            <img src=\"../../assets/images/odometry/sim-odom-complete.png\" width=\"300\" />\n",
    "            <img src=\"../../assets/images/odometry/od-sim-tour.png\" width=\"300\" />\n",
    "            <p>Odometry with different markers on different loops.</p>\n",
    "        </div>\n",
    "</div>"
   ]
  },
  {
   "cell_type": "markdown",
   "metadata": {},
   "source": [
    "If you do not have a robot, you can now proceed to the [PID control activity](../05-PID-Control/PID_controller.ipynb). If you have a robot instead, buckle your Duckies up and continue reading, it's time to have some more fun!"
   ]
  },
  {
   "cell_type": "markdown",
   "metadata": {},
   "source": [
    "## 🚙 Running the odometry activity on the Duckiebot \n",
    "\n",
    "The procedure for running this activity on your Duckiebot is very similar to above, and the same tips apply. \n",
    "\n",
    "0. Make sure your Duckiebot is powered on, charged, and connected to the network. Moreover, make sure you have calibrated your robots kinematic parameters. \n",
    "\n",
    "1. Computer -> Open terminal\n",
    "\n",
    "        dts code build\n",
    "        \n",
    "        dts code workbench -b ROBOTNAME  \n",
    "\n",
    "\n",
    "2. Open VNC on you browser. \n",
    "\n",
    "3. Double-click on the \"Odometry\" icon on the Desktop \n",
    "\n",
    "You will see three things opening: \n",
    "\n",
    "- a terminal\n",
    "- a pre-configured RVIZ window\n",
    "- a virtual joystick\n",
    "\n",
    "In the RVIZ window you will see what your robot sees, and a marker in the gridmap. That reference frame represents the position and orientation of your robot _according to the `pose_estimation` and `delta_phi` functions written above_.\n",
    "    \n",
    "4. Click on the virtual joystick and start driving. You will see the marker move too according to the wheel encoder data that the robot is receiving. You can monitor these (and other) messages by following the procedure learned in the [wheel encoders tutorial](../03-Wheel-Encoders-Tutorial/wheel_encoders_tutorial.ipynb). \n",
    "\n",
    "5. Drive as you wish. We suggest driving in your Duckietown for two reasons: (a) you should have calibrated the gain of your motors so not to slip and (b) you will have a reference of the approximate driven path. Or you can drive around your house; or do both. Whatever you do, get back to the initial position (approximately) and look at the resulting odometry. Is your robot's _belief_ accurate? Why? \n",
    "\n",
    "6. When you are satisfied with your experience and your odometry, `Ctrl-C` the terminal on your computer to stop VNC, or `Ctrl-C` your open terminal in VNC to go back to the desktop. \n",
    "\n",
    "Do you want to modify your odometry functions before proceeding? Update the `pose_estimation` and `delta_phi` functions and re-launch `dts code workbench -b ROBOTNAME`. \n",
    "\n",
    "<div style=\"text-align:center;\">\n",
    "        <div style=\"text-align:center;\">\n",
    "            <img src=\"../../assets/images/odometry/odometry-real-2.png\" width=\"300\" alt=\"successful-test-odometry-real\" />\n",
    "            <img src=\"../../assets/images/odometry/less-good-odometry.png\" width=\"300\" />\n",
    "            <p>DB21 Duckiebot good and less good odometries.</p>\n",
    "        </div>\n",
    "</div>"
   ]
  },
  {
   "cell_type": "markdown",
   "metadata": {},
   "source": [
    "## 🚙 Improving on the results\n",
    "\n",
    "There are many factor that affect the odometry and cause a drift over time. Although that is unavoidable, having an accurate estimate of the odometry parameters of the robot ($R$, $L$) will help. To improve your results above, modify your kinematic calibration parameters and try again. "
   ]
  },
  {
   "cell_type": "markdown",
   "metadata": {},
   "source": [
    "### 💡 Reflecting on the experience\n",
    "\n",
    "The first thing you should have noticed is if your odometry made any sense at all. Did your motion reconstruction follow the actual driving? \n",
    "\n",
    "Even if your equations were correct, how accurate was the reconstruction? In the short run vs. the long run? Why? \n",
    "\n",
    "Try driving several loops (you can set how many arrows will be shown, reduce the number to avoid a big mess). Does it get better or worse? Why? \n",
    "\n",
    "Did you notice anything different in the robot movement vs. the model we made? For example? \n",
    "\n",
    "On the Duckiebot, how will your odometry change if you tweak you kinematics parameters? Can you get it to do better? \n",
    "\n",
    "Did you notice any difference between the real world and the simulation? Why do you think that is the case? "
   ]
  },
  {
   "cell_type": "markdown",
   "metadata": {},
   "source": [
    "Congratulations, you just gave your robot the ability to _represent_ itself in the world. It's kind of, nearly, as if it started thinking (or not?)! You can now proceed to the next activity: designing a [PID controller for heading control](../05-PID-Control/PID_controller.ipynb)."
   ]
  }
 ],
 "metadata": {
  "kernelspec": {
   "display_name": "Python 3.8.10 64-bit",
   "language": "python",
   "name": "python3"
  },
  "language_info": {
   "codemirror_mode": {
    "name": "ipython",
    "version": 3
   },
   "file_extension": ".py",
   "mimetype": "text/x-python",
   "name": "python",
   "nbconvert_exporter": "python",
   "pygments_lexer": "ipython3",
   "version": "3.8.10"
  },
  "vscode": {
   "interpreter": {
    "hash": "916dbcbb3f70747c44a77c7bcd40155683ae19c65e1c03b4aa3499c5328201f1"
   }
  }
 },
 "nbformat": 4,
 "nbformat_minor": 4
}
