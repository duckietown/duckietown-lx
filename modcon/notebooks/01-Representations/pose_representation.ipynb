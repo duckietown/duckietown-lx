{
 "cells": [
  {
   "cell_type": "markdown",
   "metadata": {},
   "source": [
    "<p style=\"text-align: center\">\n",
    "<img src=\"../../assets/images/dtlogo.png\" alt=\"Duckietown\" width=\"50%\">\n",
    "</p>"
   ]
  },
  {
   "cell_type": "markdown",
   "metadata": {},
   "source": [
    "A *state* describes the condition of our robot at a specific time. This may include information about where the robot is, or other factors related to the environment that may affect the robot. When we develop a robotics algorithm, we are responsible to decide the information that we wish to include in the state. In other words, the definition of state depends on the task that we are trying to solve. Ideally, we want a state to exhibit the following properties:\n",
    "\n",
    "1. Markov property: future state is independent of the past given the present:\n",
    "\n",
    "\n",
    "$$x_{t+1} = f(x_t, x_{t-1}, \\dots, x_0; u_t, \\dots, u_0) = f(x_t; u_t)$$\n",
    "\n",
    "\n",
    "2. A minimally sufficient statistic for the task (i.e., it contains only the information that we need to solve the task)\n",
    "3. Permits efficient computation\n",
    "4. Generalizable\n",
    "\n",
    "An example of a state representation that is often used in robotics is the *pose*. A *pose* represents the location of the robot in the world as well as its orientation (i.e., what direction is the robot facing towards). Since we live in a 3-dimensional (3D) world, we represent the location of the robot as its $(x,y,z)$ coordinate in the world. We can represent orientation in terms of its roll, pitch, and yaw angles (also known as Euler angle representation). For example, the yaw angle $\\theta_{yaw}$ will be the angle difference between the longitudinal axis of the robot from the reference frame.\n",
    "\n",
    "<figure>\n",
    "  <div style=\"text-align:center;\">\n",
    "  <img src=\"../../assets/images/representations/roll_pitch_yaw.png\">\n",
    "  <p>Illustration of roll, pitch, and yaw (source: https://en.wikipedia.org/wiki/Aircraft_principal_axes).</p>\n",
    "  </div>\n",
    "</figure>\n",
    "\n",
    "Note that the location and the orientation of the robot can be defined either in the global coordinate frame (i.e., relative to where the origin is) or relative to any other coordinate frames. Combining location and orientation, we can write the pose $q$ in a vector/matrix form:\n",
    "\n",
    "$$\n",
    "q = \n",
    "\\begin{bmatrix}\n",
    "x & y & z & \\theta_{roll} & \\theta_{pitch} & \\theta_{yaw}\n",
    "\\end{bmatrix}\n",
    "$$\n",
    "\n",
    "The pose $q$ can also be represented in the form of a homogeneous transformation matrix, sinces poses are members of the Matrix Lie Group called the **S**pecial **E**uclidean group $SE(3)$:\n",
    "\n",
    "$$\n",
    "SE(3) = \\{T = \n",
    "\\begin{bmatrix}\n",
    "R & r \\\\\n",
    "0^T & 1\n",
    "\\end{bmatrix}\n",
    "\\in \\mathrm{R}^{4 \\times 4} | R \\in SO(3), r \\in \\mathrm{R}^{3}\n",
    "\\},\n",
    "$$\n",
    "\n",
    "where $R$ denotes the rotation matrix, and $r$ denotes the translation component. This matrix $T$ also has a nice property where \n",
    "\n",
    "$$\n",
    "T^{-1} = \n",
    "\\begin{bmatrix}\n",
    "R^T & -R^Tr \\\\\n",
    "0 & 1\n",
    "\\end{bmatrix}\n",
    "$$\n",
    "\n",
    "One of the reasons to represent the pose in this form is because it allows us to conveniently move between frames (see later in this activity). \n",
    "\n",
    "Although we have been discussing the pose in $SE(3)$, since we are using a mobile robot and we assume the world is flat, we can simplify the pose of our robot to only its $(x,y)$ coordinate and its yaw (or orientation) angle $\\theta$. This is because, in addition to the assumption that the robot is always located at a constant elevation, we can also safely assume roll and pitch angles to always be constant since the robot always touches the ground. So in this case, the pose is simply $\n",
    "q = \n",
    "\\begin{bmatrix}\n",
    "x & y & \\theta\n",
    "\\end{bmatrix}\n",
    "$, which we can also write in $SE(2)$:\n",
    "\n",
    "$$\n",
    "SE(2) = \\{T = \n",
    "\\begin{bmatrix}\n",
    "R & r \\\\\n",
    "0^T & 1\n",
    "\\end{bmatrix}\n",
    "\\in \\mathrm{R}^{3 \\times 3} | R \\in SO(2), r \\in \\mathrm{R}^{2}\n",
    "\\},\n",
    "$$\n",
    "\n",
    "where\n",
    "\n",
    "$$\n",
    "\\small\n",
    "R = \n",
    "\\begin{bmatrix}\n",
    "\\cos(\\theta) & -\\sin(\\theta) \\\\\n",
    "\\sin(\\theta) & \\cos(\\theta) \\\\\n",
    "\\end{bmatrix}\n",
    "\\ \\ \\ \\\n",
    "r = \n",
    "\\begin{bmatrix}\n",
    "x \\\\\n",
    "y \\\\\n",
    "\\end{bmatrix}\n",
    "$$\n",
    "\n",
    "So, we have:\n",
    "\n",
    "$$\n",
    "T = \n",
    "\\begin{bmatrix}\n",
    "\\cos(\\theta) & -\\sin(\\theta) & x \\\\\n",
    "\\sin(\\theta) & \\cos(\\theta) & y \\\\\n",
    "0 & 0 & 1\n",
    "\\end{bmatrix}\n",
    "$$\n",
    "\n",
    "Let's first make sure that we understand how to represent a pose by doing the exercise below."
   ]
  },
  {
   "cell_type": "markdown",
   "metadata": {},
   "source": [
    "**EXAMPLE: representing pose in $SE(n)$**\n",
    "\n",
    "<figure>\n",
    "  <div style=\"text-align:center;\">\n",
    "  <img src=\"../../assets/images/representations/pose_exercise.png\">\n",
    "  </div>\n",
    "</figure>\n",
    "\n",
    "**Question:**\n",
    "\n",
    "The figure above illustrates the location of the robot (the orange dot) and its orientation, where the angle is measured from the $x$-axis (assume the angle to have a positive measure if the rotation is counterclockwise). How do we write the pose in $SE(2)$?"
   ]
  },
  {
   "cell_type": "code",
   "execution_count": 1,
   "metadata": {},
   "outputs": [],
   "source": [
    "%matplotlib inline\n",
    "import numpy as np\n",
    "import matplotlib.pyplot as plt"
   ]
  },
  {
   "cell_type": "code",
   "execution_count": 2,
   "metadata": {},
   "outputs": [
    {
     "name": "stdout",
     "output_type": "stream",
     "text": [
      "1.0471975511965976\n",
      "[[ 0.5       -0.8660254  2.       ]\n",
      " [ 0.8660254  0.5        3.       ]\n",
      " [ 0.         0.         1.       ]]\n"
     ]
    }
   ],
   "source": [
    "# Type your answer here\n",
    "# Tip 1: always express your angles in radians!\n",
    "# Tip 2: you can go from degrees to radians through the np.deg2rad() function\n",
    "\n",
    "theta = np.deg2rad(60)\n",
    "\n",
    "p = np.array([\n",
    "    [np.cos(theta), -np.sin(theta), 2],\n",
    "    [np.sin(theta), np.cos(theta), 3],\n",
    "    [0, 0, 1]\n",
    "])\n",
    "\n",
    "print(theta)\n",
    "print(p)"
   ]
  },
  {
   "cell_type": "markdown",
   "metadata": {},
   "source": [
    "(You can find the solutions to this and other questions in the [solutions file](../01-Representations/solutions_pose_representation.ipynb) in this folder. Give it a honest shot yourself before peeking!) "
   ]
  },
  {
   "cell_type": "markdown",
   "metadata": {},
   "source": [
    "# II: Moving between frames"
   ]
  },
  {
   "cell_type": "markdown",
   "metadata": {},
   "source": [
    "It is often useful to convert a pose from one frame to another one, since we may have multiple coordinate frames used in the description of the same problem. Common examples are robot pose with respect to robot or world frame, or pose of an obtacle with respect to the sensor that perceives it or the robot frame. \n",
    "\n",
    "As mentioned in the previous section, representing the pose in $SE(n)$ allows us to conveniently move between frames. We can do this by multiplying these transformation matrices together. For example, consider two different poses $a$ and $b$. If we know the pose $a$ in the origin frame $o$ (i.e., $p^o_a$) and the pose $b$ in the frame of $a$ (i.e., $p^a_b$), we can then compute the pose $b$ relative to the origin frame $o$ using the following relation:\n",
    "\n",
    "$$p^o_b = p^o_a \\cdot p^a_b,$$\n",
    "\n",
    "where $p^o_b$, $p^o_a$, and $p^a_b$ are represented in $SE(n)$. Similarly, if we are given $p^a_o$ and $p^o_b$, we can compute $p^a_b$ via:\n",
    "\n",
    "$$p^a_b = p^a_o \\cdot p^o_b$$\n",
    "\n",
    "Generally, we can combine these transformations together like the following:\n",
    "\n",
    "$$p^a_f = p^a_b \\cdot p^b_c \\cdot p^c_d \\cdot p^d_e \\cdot p^e_f$$\n",
    "\n",
    "In addition, another handy relation to know is that $p^a_b = (p^b_a)^{-1}$. \n",
    "\n",
    "Let's now take a look at some examples."
   ]
  },
  {
   "cell_type": "markdown",
   "metadata": {},
   "source": [
    "**EXAMPLE: moving between frames (from robot frame to map frame)**\n",
    "\n",
    "Your Duckiebot is on a critical recognition mission: identify and place road obstacles on the map. \n",
    "\n",
    "During its mission, your Duckiebot has GPS support, and it knows its own position in the global (map) frame. It encounters its first obstacle at position $x = 2$ m and $y = 0.4$ m, and orientation $\\theta$ = 110 degrees. The obstacle itself is at 30cm at 50 degrees (counter-clockwise) from the Duckiebot. Where is the location of the obstacle in the map (i.e., global) frame?\n",
    "\n",
    "<figure>\n",
    "  <div style=\"text-align:center;\">\n",
    "  <img src=\"../../assets/images/representations/moving_frame_exercise_1.png\">\n",
    "  <p>The orange and blue dots represent the robot and the obstacle, respectively. Determine the position of the blue dot in the global frame given the pose of the Duckiebot in the global from and that of the obstacle with respect to the Duckiebot's frame.</p>\n",
    "  </div>\n",
    "</figure>\n",
    "\n",
    "<!-- We denote our origin frame as $o$, ... as $a$, and ... as $b$. -->\n",
    "\n",
    "<!-- Compute $p^o_a$ and $p^b_a$, and use them to compute $p^a_b$.  -->"
   ]
  },
  {
   "cell_type": "code",
   "execution_count": 3,
   "metadata": {},
   "outputs": [],
   "source": [
    "# Run this cell to initialize the problem\n",
    "# Tip: be consistent with your units - meters and radians are great choices\n",
    "# Fact: humans understand degrees better than radians. To avoid confusion, input and output degrees, but do calculations in radians\n",
    "\n",
    "duckie_pos_g = np.array([2, 0.4])   # Position of Duckiebot in map/global frame (in meters)\n",
    "duckie_or_g = 110                   # Orientation of Duckiebot in map/global frame (in degrees)\n",
    "obstacle_dist_to_duckie = 0.3       # Obstacle distance to the Duckiebot\n",
    "obstacle_angle = 50                 # Obstacle angle with respect to Duckiebot (in degrees)"
   ]
  },
  {
   "cell_type": "code",
   "execution_count": 4,
   "metadata": {},
   "outputs": [
    {
     "name": "stdout",
     "output_type": "stream",
     "text": [
      "[1.71809221 0.50260604]\n"
     ]
    }
   ],
   "source": [
    "# Let's find the answer!\n",
    "# Step 1. Convert degrees to radians\n",
    "rot_in_rad_a = np.deg2rad(duckie_or_g) # (np.pi * duckie_or_g) / 180.\n",
    "rot_in_rad_b = np.deg2rad(obstacle_angle) # (np.pi * obstacle_angle) / 180.\n",
    "\n",
    "# Step 2. Transformation matrix from origin (o) to Duckiebot (a)\n",
    "\n",
    "T_oa = np.array(([np.cos(rot_in_rad_a),-np.sin(rot_in_rad_a),duckie_pos_g[0]],\n",
    "                 [np.sin(rot_in_rad_a),np.cos(rot_in_rad_a),duckie_pos_g[1]],\n",
    "                 [0, 0, 1]))\n",
    "\n",
    "# Step 3. Transformation matrix from Duckiebot (a) to obstacle (b)\n",
    "\n",
    "dx = obstacle_dist_to_duckie * np.cos(rot_in_rad_b)\n",
    "dy = obstacle_dist_to_duckie * np.sin(rot_in_rad_b)\n",
    "T_ab =  np.array(([np.cos(rot_in_rad_b),-np.sin(rot_in_rad_b),dx],\n",
    "                 [np.sin(rot_in_rad_b),np.cos(rot_in_rad_b),dy],\n",
    "                 [0, 0, 1]))\n",
    "\n",
    "# Step 4. Use the above to compute the transformation from origin (o) to obstacle (b)\n",
    "\n",
    "T_ob = np.dot(T_oa,T_ab) # T_ob = (T_oa)(T_ab)\n",
    "\n",
    "# Step 5. Extract the information requested from the transformation matrix\n",
    "\n",
    "obstacle_x_g = T_ob[0,2]\n",
    "obstacle_y_g = T_ob[1,2]\n",
    "\n",
    "# Write your answer (position of obstacle in global frame) here instead of \"None, None\" \n",
    "obstacle_pos_g = np.array([obstacle_x_g, obstacle_y_g])    \n",
    "print(obstacle_pos_g)"
   ]
  },
  {
   "cell_type": "markdown",
   "metadata": {},
   "source": [
    "Correct result: [1.71809221 0.50260604]"
   ]
  },
  {
   "cell_type": "markdown",
   "metadata": {},
   "source": [
    "**EXAMPLE: moving between frames (from global frame to robot frame)**\n",
    "\n",
    "A very concerned duckiecitizen reaches out to you: \n",
    "\n",
    "\"The sky is falling on our heads!\" \n",
    "\n",
    "A sizeable fragment of the citizen neighbour's roof fell on the road. You are told it is positioned at $x = 4$ m and $y = -1$ m (in the global reference frame).\n",
    "\n",
    "This is valuable information, but before making it official by adding it to the map, it needs to be verified. You have a nearby Duckiebot, at $x = 3.5$ m, $y = -1.2$ m, oriented at $\\theta = 45$ degrees, that will be tasked to reach the roof fragment. \n",
    "\n",
    "What are the coordinates of the obstacle described by the concerned citizen with respect to the Duckiebot's reference frame?\n",
    "\n",
    "<figure>\n",
    "  <div style=\"text-align:center;\">\n",
    "  <img src=\"../../assets/images/representations/moving_frame_exercise_2.png\">\n",
    "  <p>The orange and blue dots represent the robot and the obstacle, respectively. Determine the position of the blue dot in the robot frame.</p>\n",
    "  </div>\n",
    "</figure>"
   ]
  },
  {
   "cell_type": "code",
   "execution_count": 5,
   "metadata": {},
   "outputs": [],
   "source": [
    "### Run this cell to initialize the problem\n",
    "# Tip: remember to be consistent with your units\n",
    "\n",
    "duckie_pos_g = np.array([3.5, -1.2])   # Position of Duckiebot in global frame (meters)\n",
    "duckie_or_g = 45                       # Orientation of Duckiebot in global frame (degrees)\n",
    "obstacle_pos_g = np.array([4, -1])     # Position of obstacle in global frame (meters)"
   ]
  },
  {
   "cell_type": "code",
   "execution_count": 6,
   "metadata": {},
   "outputs": [
    {
     "name": "stdout",
     "output_type": "stream",
     "text": [
      "[ 0.49497475 -0.21213203]\n"
     ]
    }
   ],
   "source": [
    "# Let's send the Duckiebot to the correct place!\n",
    "# Convert degrees to radians\n",
    "rot_in_rad_a = (np.pi * duckie_or_g) / 180.\n",
    "\n",
    "# Write the transformation matrix from origin (o) to the duckie (a)\n",
    "T_oa = np.array(([np.cos(rot_in_rad_a),-np.sin(rot_in_rad_a),duckie_pos_g[0]],\n",
    "                 [np.sin(rot_in_rad_a),np.cos(rot_in_rad_a),duckie_pos_g[1]],\n",
    "                 [0, 0, 1])) # Transformation matrix from origin (o) to the duckie (a)\n",
    "\n",
    "# Write the transformation matrix from origin (o) to the obstacle (b)                \n",
    "T_ob = np.array(([1, 0, obstacle_pos_g[0]],\n",
    "                 [0, 1, obstacle_pos_g[1]],\n",
    "                 [0, 0, 1])) # Transformation matrix from origin (o) to the obstacle (b)\n",
    "\n",
    "# Leverage the known properties of transformation matrices and basics of linear algebra to find your answer\n",
    "T_ab = np.dot(np.linalg.inv(T_oa),T_ob)\n",
    "\n",
    "\n",
    "# Extract the obstacle position from the transformation matrix\n",
    "obstacle_x_a = T_ab[0,2]\n",
    "obstacle_y_a = T_ab[1,2]\n",
    "\n",
    "# Place your answer here instead of None, None (position of obstacle in global frame)\n",
    "obstacle_pos_r = np.array([obstacle_x_a, obstacle_y_a])    \n",
    "print(obstacle_pos_r)"
   ]
  },
  {
   "cell_type": "markdown",
   "metadata": {},
   "source": [
    "Correct result: [ 0.49497475 -0.21213203]"
   ]
  },
  {
   "cell_type": "markdown",
   "metadata": {},
   "source": [
    "You can now proceed to the [wheel calibration tutorial](../02-Wheel-Calibration/wheels_calibration.ipynb). "
   ]
  },
  {
   "cell_type": "markdown",
   "metadata": {},
   "source": [
    "_Credit: [Rey Reza Wiyatno](https://github.com/rrwiyatn)_"
   ]
  }
 ],
 "metadata": {
  "kernelspec": {
   "display_name": "Python 3.8.10 64-bit",
   "language": "python",
   "name": "python3"
  },
  "language_info": {
   "codemirror_mode": {
    "name": "ipython",
    "version": 3
   },
   "file_extension": ".py",
   "mimetype": "text/x-python",
   "name": "python",
   "nbconvert_exporter": "python",
   "pygments_lexer": "ipython3",
   "version": "3.8.10"
  },
  "vscode": {
   "interpreter": {
    "hash": "916dbcbb3f70747c44a77c7bcd40155683ae19c65e1c03b4aa3499c5328201f1"
   }
  }
 },
 "nbformat": 4,
 "nbformat_minor": 4
}
