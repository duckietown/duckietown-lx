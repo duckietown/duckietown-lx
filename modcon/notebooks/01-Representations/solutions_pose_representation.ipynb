{
 "cells": [
  {
   "cell_type": "markdown",
   "metadata": {},
   "source": [
    "<p style=\"text-align: center\">\n",
    "<img src=\"../../assets/images/dtlogo.png\" alt=\"Duckietown\" width=\"50%\">\n",
    "</p>"
   ]
  },
  {
   "cell_type": "markdown",
   "metadata": {},
   "source": [
    "# 💻 01 - State representation, coordinate systems, and pose (SOLUTIONS)"
   ]
  },
  {
   "cell_type": "code",
   "execution_count": 2,
   "metadata": {},
   "outputs": [],
   "source": [
    "%matplotlib inline\n",
    "import numpy as np\n",
    "import matplotlib.pyplot as  plt"
   ]
  },
  {
   "cell_type": "code",
   "execution_count": 3,
   "metadata": {},
   "outputs": [
    {
     "name": "stdout",
     "output_type": "stream",
     "text": [
      "1.0471975511965976\n",
      "[[ 0.5       -0.8660254  2.       ]\n",
      " [ 0.8660254  0.5        3.       ]\n",
      " [ 0.         0.         1.       ]]\n"
     ]
    }
   ],
   "source": [
    "# Type your answer here\n",
    "# Tip 1: always express your angles in radians!\n",
    "# Tip 2: you can go from degrees to radians through the np.deg2rad() function\n",
    "\n",
    "theta = np.deg2rad(60)\n",
    "\n",
    "p = np.array([\n",
    "    [np.cos(theta), -np.sin(theta), 2],\n",
    "    [np.sin(theta), np.cos(theta), 3],\n",
    "    [0, 0, 1]\n",
    "])\n",
    "\n",
    "print(theta)\n",
    "print(p)"
   ]
  },
  {
   "cell_type": "markdown",
   "metadata": {},
   "source": [
    "# II: Moving between frames"
   ]
  },
  {
   "cell_type": "code",
   "execution_count": 4,
   "metadata": {},
   "outputs": [],
   "source": [
    "# Run this cell to initialize the problem\n",
    "\n",
    "duckie_pos_g = np.array([2, 0.4])   # Position of Duckiebot in map/global frame\n",
    "duckie_or_g = 110                   # Orientation of Duckiebot in map/global frame (in degrees)\n",
    "obstacle_dist_to_duckie = 0.3       # Obstacle distance to the Duckiebot\n",
    "obstacle_angle = 50                 # Obstacle angle with respect to Duckiebot (in degrees)"
   ]
  },
  {
   "cell_type": "code",
   "execution_count": 5,
   "metadata": {},
   "outputs": [
    {
     "name": "stdout",
     "output_type": "stream",
     "text": [
      "[1.71809221 0.50260604]\n"
     ]
    }
   ],
   "source": [
    "# Let's find the answer!\n",
    "# Step 1. Convert degrees to radians\n",
    "rot_in_rad_a = np.deg2rad(duckie_or_g) # (np.pi * duckie_or_g) / 180.\n",
    "rot_in_rad_b = np.deg2rad(obstacle_angle) # (np.pi * obstacle_angle) / 180.\n",
    "\n",
    "# Step 2. Transformation matrix from origin (o) to Duckiebot (a)\n",
    "\n",
    "T_oa = np.array(([np.cos(rot_in_rad_a),-np.sin(rot_in_rad_a),duckie_pos_g[0]],\n",
    "                 [np.sin(rot_in_rad_a),np.cos(rot_in_rad_a),duckie_pos_g[1]],\n",
    "                 [0, 0, 1]))\n",
    "\n",
    "# Step 3. Transformation matrix from Duckiebot (a) to obstacle (b)\n",
    "\n",
    "dx = obstacle_dist_to_duckie * np.cos(rot_in_rad_b)\n",
    "dy = obstacle_dist_to_duckie * np.sin(rot_in_rad_b)\n",
    "T_ab =  np.array(([np.cos(rot_in_rad_b),-np.sin(rot_in_rad_b),dx],\n",
    "                 [np.sin(rot_in_rad_b),np.cos(rot_in_rad_b),dy],\n",
    "                 [0, 0, 1]))\n",
    "\n",
    "# Step 4. Use the above to compute the transformation from origin (o) to obstacle (b)\n",
    "\n",
    "T_ob = np.dot(T_oa,T_ab) # T_ob = (T_oa)(T_ab)\n",
    "\n",
    "# Step 5. Extract the information requested from the transformation matrix\n",
    "\n",
    "obstacle_x_g = T_ob[0,2]\n",
    "obstacle_y_g = T_ob[1,2]\n",
    "\n",
    "# Write your answer (position of obstacle in global frame) here instead of \"None, None\" \n",
    "obstacle_pos_g = np.array([obstacle_x_g, obstacle_y_g])    \n",
    "print(obstacle_pos_g)\n",
    "\n",
    "\n",
    "\n",
    "\n",
    "\n",
    "\n",
    "\n"
   ]
  },
  {
   "cell_type": "code",
   "execution_count": 6,
   "metadata": {},
   "outputs": [],
   "source": [
    "### Run this cell to initialize the problem\n",
    "\n",
    "duckie_pos_g = np.array([3.5, -1.2])   # Position of Duckiebot in global frame\n",
    "duckie_or_g = 45                       # Orientation of Duckiebot in global frame (degrees)\n",
    "obstacle_pos_g = np.array([4, -1])     # Position of obstacle in global frame"
   ]
  },
  {
   "cell_type": "code",
   "execution_count": 7,
   "metadata": {},
   "outputs": [
    {
     "name": "stdout",
     "output_type": "stream",
     "text": [
      "[ 0.49497475 -0.21213203]\n"
     ]
    }
   ],
   "source": [
    "# Let's send the Duckiebot to the correct place!\n",
    "# Convert degrees to radians\n",
    "rot_in_rad_a = (np.pi * duckie_or_g) / 180.\n",
    "\n",
    "# Write the transformation matrix from origin (o) to the duckie (a)\n",
    "T_oa = np.array(([np.cos(rot_in_rad_a),-np.sin(rot_in_rad_a),duckie_pos_g[0]],\n",
    "                 [np.sin(rot_in_rad_a),np.cos(rot_in_rad_a),duckie_pos_g[1]],\n",
    "                 [0, 0, 1])) # Transformation matrix from origin (o) to the duckie (a)\n",
    "\n",
    "# Write the transformation matrix from origin (o) to the obstacle (b)                \n",
    "T_ob = np.array(([1, 0, obstacle_pos_g[0]],\n",
    "                 [0, 1, obstacle_pos_g[1]],\n",
    "                 [0, 0, 1])) # Transformation matrix from origin (o) to the obstacle (b)\n",
    "\n",
    "# Leverage the known properties of transformation matrices and basics of linear algebra to find your answer\n",
    "T_ab = np.dot(np.linalg.inv(T_oa),T_ob)\n",
    "\n",
    "\n",
    "# Extract the obstacle position from the transformation matrix\n",
    "obstacle_x_a = T_ab[0,2]\n",
    "obstacle_y_a = T_ab[1,2]\n",
    "\n",
    "# Place your answer here instead of None, None (position of obstacle in global frame)\n",
    "obstacle_pos_r = np.array([obstacle_x_a, obstacle_y_a])    \n",
    "print(obstacle_pos_r)"
   ]
  }
 ],
 "metadata": {
  "kernelspec": {
   "display_name": "Python 3.8.10 64-bit",
   "language": "python",
   "name": "python3"
  },
  "language_info": {
   "codemirror_mode": {
    "name": "ipython",
    "version": 3
   },
   "file_extension": ".py",
   "mimetype": "text/x-python",
   "name": "python",
   "nbconvert_exporter": "python",
   "pygments_lexer": "ipython3",
   "version": "3.8.10"
  },
  "vscode": {
   "interpreter": {
    "hash": "916dbcbb3f70747c44a77c7bcd40155683ae19c65e1c03b4aa3499c5328201f1"
   }
  }
 },
 "nbformat": 4,
 "nbformat_minor": 4
}
