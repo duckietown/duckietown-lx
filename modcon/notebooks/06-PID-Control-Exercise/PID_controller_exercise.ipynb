{
 "cells": [
  {
   "cell_type": "markdown",
   "metadata": {},
   "source": [
    "<p style=\"text-align: center\">\n",
    "<img src=\"../../assets/images/dtlogo.png\" alt=\"Duckietown\" width=\"50%\">\n",
    "</p>"
   ]
  },
  {
   "cell_type": "markdown",
   "metadata": {
    "tags": []
   },
   "source": [
    "# 💻 06 - PID controller homework"
   ]
  },
  {
   "cell_type": "markdown",
   "metadata": {
    "tags": []
   },
   "source": [
    "In the previous activities we have built up the tools needed to deploy a PID controller. We have used as control signal the angular speed ($\\omega$) and as controlled variable the heading of the Duckiebot ($\\theta$).\n",
    "\n",
    "In this exercise you will use what you have learned so far to write a PID controller to command the angular speed of your Duckiebot, to compensate an initial lateral position offset of $0.2 \\text{m}$. \n",
    "\n",
    "Your robot will have to rely on its own odometry to estimate its current position.\n",
    "\n",
    "**Note**: the function(s) used to compute the odometry will be taken from your previous answers in the [odometry activity](../04-Odometry/odometry_activity.ipynb). Make sure you are happy about them!\n",
    "\n",
    "The Duckiebot's speed is constant and given: $v_0 = 0.2$. \n",
    "\n",
    "May the duck be with you!"
   ]
  },
  {
   "cell_type": "markdown",
   "metadata": {
    "collapsed": false
   },
   "source": [
    "## Implement PID controller for lateral control\n",
    "\n",
    "Implement the function `PIDController` inside the file [pid_controller_homework.py](../../packages/solution/pid_controller_homework.py).\n",
    "\n",
    "The controller you are asked to write performs PID control on the $y$ coordinate (in the world frame) of the Duckiebot. It receives the following inputs:\n",
    "\n",
    "    v_0:        linear Duckiebot speed (constant).\n",
    "    y_ref:      target y coordinate.\n",
    "    y_hat:      the current estimated y.\n",
    "    prev_e_y:   tracking error at previous iteration.\n",
    "    prev_int_y: previous integral error term.\n",
    "    delta_t:    time interval since last call.\n",
    "\n",
    "and it will produce the following outputs:\n",
    "\n",
    "    v_0:     linear velocity of the Duckiebot\n",
    "    omega:   angular velocity of the Duckiebot\n",
    "    e:       current tracking error (automatically becomes prev_e_y at next iteration).\n",
    "    e_int:   current integral error (automatically becomes prev_int_y at next iteration).\n"
   ]
  },
  {
   "cell_type": "markdown",
   "metadata": {},
   "source": [
    "### Sanity Check"
   ]
  },
  {
   "cell_type": "code",
   "execution_count": null,
   "metadata": {
    "collapsed": false,
    "pycharm": {
     "is_executing": true,
     "name": "#%%\n"
    }
   },
   "outputs": [],
   "source": [
    "%load_ext autoreload\n",
    "%autoreload 2"
   ]
  },
  {
   "cell_type": "code",
   "execution_count": null,
   "metadata": {},
   "outputs": [],
   "source": [
    "from tests.unit_test import UnitTestPositionPID\n",
    "\n",
    "from solution.pid_controller_homework import PIDController\n",
    "\n",
    "# Write here the values of the kinematics parameters you calculated during the activities.\n",
    "# This test will give you an idea of the behavior of the controller you wrote above.\n",
    "# Try to play with the parameters, change R, the baseline all the PID variables,\n",
    "# What change in the resulting graphs? Why?\n",
    "\n",
    "# Note: this sanity check is neither a prerequisite for completing the exercise nor an instrument for tuning your controller. \n",
    "\n",
    "R = 0.0318\n",
    "baseline = 0.1\n",
    "gain = 0.6\n",
    "trim = 0.0\n",
    "v_0 = 0.2\n",
    "y_ref = 0.2\n",
    "\n",
    "# unit test input R, baseline, v_0, gain, trim, PIDController\n",
    "unit_test = UnitTestPositionPID(R, baseline, v_0, y_ref, gain, trim, PIDController) \n",
    "unit_test.test()\n"
   ]
  },
  {
   "cell_type": "markdown",
   "metadata": {},
   "source": [
    "# PID tuning\n",
    "\n",
    "In order to tune the PID two approaches of increasing fedelity are possible:\n",
    "1. Kinematic model $\\dot{q}=Aq$: only simulating the kinematics of the Duckiebot\n",
    "2. Dynamics model $F=ma$: simulate the dynamics of the Duckiebot, with forces and inertia.\n",
    "\n",
    "### Tuning scenario\n",
    "You will tune the PID in a scenario similar to the one in the first AIDO challenge of this learning experience:\n",
    "\n",
    "- **Starting pose:** $x_0,y_0,\\theta_0=[0 m, 0.2 m, 0°]$\n",
    "- **Commanded velocity:** $v_0=0.22m/s$\n",
    "- **Goal**: getting to $y_{ref}=0.0m$\n",
    "\n",
    "This is equivalent to starting in the wrong lane and try following the centerline of the correct lane."
   ]
  },
  {
   "cell_type": "code",
   "execution_count": null,
   "metadata": {},
   "outputs": [],
   "source": [
    "# Initial conditions of the duckiebot\n",
    "x0 = 0.0\n",
    "y0 = 0.2\n",
    "theta_0 = 0.0 # degrees\n",
    "\n",
    "initial_pose =  [x0,y0,theta_0]\n",
    "initial_vel =   [0.0, 0]\n",
    "\n",
    "# Goal:\n",
    "y_ref = 0"
   ]
  },
  {
   "cell_type": "markdown",
   "metadata": {},
   "source": [
    "# Kinematic model\n",
    "In this part of the notebook you will tune the PID on a kinematic model of the Duckiebot. This is the simplest model of the robot and it will be your first step to get an idea of the values."
   ]
  },
  {
   "cell_type": "code",
   "execution_count": null,
   "metadata": {},
   "outputs": [],
   "source": [
    "import matplotlib.pyplot as plt\n",
    "\n",
    "from utils.writer import load_gains, update_gains\n",
    "\n",
    "def plot_xy_from_lists(xs,ys,y_ref):\n",
    "    # Plot (x,y) position\n",
    "    ax = plt.subplot(313)\n",
    "    plt.grid('on')\n",
    "    plt.plot(xs, ys)\n",
    "\n",
    "    plt.axhline(y = y_ref, color = 'r', linestyle = '--')\n",
    "\n",
    "    plt.xlabel('x', fontsize=12)\n",
    "    plt.ylabel('y', fontsize=12)\n",
    "\n",
    "    # Set grass background\n",
    "    ax.set_facecolor('g')\n",
    "\n",
    "    top_line=0.2\n",
    "    bottom_line=-0.2\n",
    "\n",
    "    # Draw road\n",
    "    ax.axhspan(ymin=bottom_line,ymax=top_line,facecolor='k')\n",
    "    plt.axhline(y=top_line,linestyle='-',color='w') # white\n",
    "    plt.axhline(y=bottom_line,linestyle='-',color='w')\n",
    "    plt.axhline(y=0.0,linestyle='--',color='#fefe03')\n",
    "\n",
    "    ax.set_ylim(bottom=-0.3,top=0.3)\n",
    "\n",
    "    plt.show()\n"
   ]
  },
  {
   "cell_type": "code",
   "execution_count": null,
   "metadata": {},
   "outputs": [],
   "source": [
    "from simulators import integrate_kinematics\n",
    "from solution.pid_controller_homework import PIDController\n",
    "\n",
    "def compute_response(initial_pose, initial_vel = [0,0], y_ref=0,dynamics=integrate_kinematics):\n",
    "    \n",
    "    xs, ys, omegas, e_list, angles = dynamics(\n",
    "        initial_pose,initial_vel,y_ref,controller=PIDController,\n",
    "        )\n",
    "        \n",
    "    plot_xy_from_lists(xs,ys,y_ref)\n",
    "\n",
    "def tune_gains(kp,kd,ki):\n",
    "        # write values from sliders to file PID_HOMEWORK_GAINS.py\n",
    "        update_gains(kp,kd,ki)\n",
    "\n",
    "        # simulate the controller\n",
    "        compute_response(initial_pose,y_ref=y_ref,dynamics=integrate_kinematics)\n",
    "\n",
    "from ipywidgets import interact\n",
    "\n",
    "interact(tune_gains, kp=5.0,kd=5.0,ki=1.0)"
   ]
  },
  {
   "cell_type": "markdown",
   "metadata": {},
   "source": [
    "# PID Tuning - Dynamic model\n",
    "For convenience you can simulate here the dynamic behavior of the robot on the x-y plane without having to run the full simulator. This allows you to tweak the gains of the PID and quickly see the effect on the response of the system.\n",
    "\n",
    "Let's plot the position of the duckiebot on the $xy$ plane:"
   ]
  },
  {
   "cell_type": "code",
   "execution_count": null,
   "metadata": {},
   "outputs": [],
   "source": [
    "from simulators import integrate_dynamics\n",
    "from solution.pid_controller_homework import PIDController\n",
    "\n",
    "def tune_gains(kp,kd,ki):\n",
    "        # write values from sliders to file PID_HOMEWORK_GAINS.py\n",
    "        update_gains(kp,kd,ki)\n",
    "\n",
    "        # simulate the controller\n",
    "        compute_response(initial_pose,y_ref=y_ref,dynamics=integrate_dynamics)\n",
    "\n",
    "interact(tune_gains, kp=5.0,kd=5.0,ki=1.0)"
   ]
  },
  {
   "cell_type": "markdown",
   "metadata": {},
   "source": [
    "# PID Tuning: dynamic model with odometry\n",
    "\n",
    "Now to get the current pose we use the odometry function you developed. In particular $\\hat{y}$ (the estimate of the current $y$ position) is fed to the PID controller and the `dynamics` function now also gets as argument the two functions you developed in the odometry activity (`delta_phi` and `pose_estimation`)."
   ]
  },
  {
   "cell_type": "code",
   "execution_count": null,
   "metadata": {},
   "outputs": [],
   "source": [
    "from solution.odometry_activity import  delta_phi, pose_estimation\n",
    "\n",
    "# We redefine `compute_response` to use the odometry functions as well\n",
    "\n",
    "def compute_response(initial_pose, initial_vel = [0,0], y_ref=0,dynamics=integrate_kinematics):\n",
    "    \n",
    "    xs, ys, omegas, e_list, angles = dynamics(\n",
    "        initial_pose,initial_vel,y_ref,controller=PIDController,odometry_function=pose_estimation,delta_phi=delta_phi\n",
    "        )\n",
    "        \n",
    "    plot_xy_from_lists(xs,ys,y_ref)\n",
    "\n",
    "def tune_gains(kp,kd,ki):\n",
    "        # write values from sliders to file PID_HOMEWORK_GAINS.py\n",
    "        update_gains(kp,kd,ki)\n",
    "\n",
    "        # simulate the controller\n",
    "        compute_response(initial_pose,y_ref=y_ref,dynamics=integrate_dynamics)\n",
    "\n",
    "interact(tune_gains, kp=5.0,kd=5.0,ki=1.0)"
   ]
  },
  {
   "cell_type": "markdown",
   "metadata": {},
   "source": [
    "You see that there's a difference in the behavior of the robot compared to the dynamics simulator _without odometry_.\n",
    "\n",
    "*   Can you explain what is it?\n",
    "*   What do you think might be the cause of this difference?\n",
    "*   How could you check if your hypothesis is correct?"
   ]
  },
  {
   "cell_type": "markdown",
   "metadata": {},
   "source": [
    "## Testing instructions and outcome examples\n",
    "\n",
    "Here are some examples of stable outcomes (not necessarily the best you can get):\n",
    "\n",
    "### 💻 Simulation \n",
    "\n",
    "1. Write the controller above, save this page (`Ctrl-S`), and run both:\n",
    "\n",
    "        dts code build\n",
    "        dts code workbench --sim\n",
    "\n",
    "\n",
    "2. Click on the \"PID Exercise\" icon on the VNC desktop\n",
    "\n",
    "3. Bring up the interaction panel (it might be hidden behind RVIZ, highlight it through the shortcut on the bottom bar of VNC) and type the desired reference position $y_{ref}$ (in **meters**) and Duckiebot linear speed ($v_0$). \n",
    "\n",
    "4. Press on `Send Commands` to start, `Stop` to stop. \n",
    "\n",
    "5. `Ctrl-C` on the computer terminal used to launch the simulator to close the instance. \n",
    "\n",
    "<figure>\n",
    "  <div style=\"text-align:center;\">\n",
    "  <img src=\"../../assets/images/pid-control/pid-lateral-sim-good.png\" alt=\"pid-lateral-sim-1\" style=\"width: 300px;\"/>\n",
    "  <p>Simulation, lateral PID control. \n",
    "\n",
    "$$v_{0} = 0.2, y_{ref} = [0.2, -0.1]$$\n",
    "</p>\n",
    "  </div>\n",
    "</figure>\n",
    "\n",
    "### 🚙 Duckiebot\n",
    "\n",
    "0. Make sure your Duckiebot is powered on and connected to the network. Note: For the controller to run properly on your robot, you need to have completed the [camera calibration](https://docs.duckietown.com/daffy/opmanual-duckiebot/operations/calibration_camera/index.html) and [wheel calibration](https://docs.duckietown.com/daffy/opmanual-duckiebot/operations/calibration_wheels/index.html) steps found in the Duckiebot operation manual.\n",
    "\n",
    "1. Write the controller above, save this page (`Ctrl-S`), run:\n",
    "\n",
    "\n",
    "        dts code build\n",
    "        dts code workbench -b ROBOTNAME\n",
    "\n",
    "\n",
    "2. Click on the \"PID Exercise\" icon on the VNC desktop\n",
    "\n",
    "3. Bring up the interaction panel (it might be hidden behind RVIZ, highlight it through the shortcut on the bottom bar of VNC) and type the desired reference position $y_{ref}$ (in **meters**) and Duckiebot linear speed ($v_0$). \n",
    "\n",
    "4. Press on `Send Commands` to start, `Stop` to stop. \n",
    "\n",
    "5. `Ctrl-C` on the computer terminal used to launch the simulator to close the instance. \n",
    "\n",
    "<figure>\n",
    "  <div style=\"text-align:center;\">\n",
    "  <img src=\"../../assets/images/pid-control/pid-lateral-real-good.png\" alt=\"pid-lateral-real-1\" style=\"width: 300px;\"/>\n",
    "  <p>Duckiebot, lateral PID control. \n",
    "  \n",
    "  $$v_{0} = 0.2, y_{ref} = [0.2, -0.2, 0.2]$$\n",
    "  </p>\n",
    "  </div>\n",
    "</figure>"
   ]
  },
  {
   "cell_type": "markdown",
   "metadata": {},
   "source": [
    "# Local evaluation and remote submission of your homework exercise\n",
    "\n",
    "\n",
    "⚠️ You must submit this homework for evaluation, by following the `Remote evalutation` instructions below.⚠️ \n",
    "\n",
    "## Local evaluation\n",
    "\n",
    "If you want (this is not necessary) you can evaluate your submission locally before shipping it to the cloud. This will provide you access to detailed performacne metrics of your controller on various episodes. Note that this will take a while to run (~30-60 minutes). \n",
    "\n",
    "1. Open a terminal, navigate to the exercise folder and run:\n",
    "\n",
    "\n",
    "        dts code evaluate\n",
    "        \n",
    "\n",
    "2. The result of the simulation can be visualized in realtime at the link printed by the evaluator, for example:\n",
    "\n",
    "<figure>\n",
    "  <div style=\"text-align:center;\">\n",
    "  <img src=\"../../assets/images/pid-exercise/screen-aido-eval.png\" alt=\"pid-lateral-real-1\" style=\"width: 900px;\"/>\n",
    "  <p>Visualize the simulation at the link printed during the evaluation.</p>\n",
    "  </div>\n",
    "</figure>\n",
    "\n",
    "3. The evaluation output is saved locally at the end of the evaluation process. \n",
    "\n",
    "## Remote submission (⚠️ This part is required to submit your homework ⚠️)\n",
    "\n",
    "You can submit your agent for evaluation by: \n",
    "\n",
    "1. Opening a terminal on your computer, navigating to the exercise folder and running:\n",
    "\n",
    "\n",
    "        dts code submit\n",
    "        \n",
    "\n",
    "2. The result of the submission can be visualized on the AI-DO challenges website.\n",
    "\n",
    "After some processing, you should see something like this:\n",
    "\n",
    "```\n",
    "\n",
    "~        ## Challenge lx22-modcon - MOOC - ModCon\n",
    "~        \n",
    "~                Track this submission at:\n",
    "~        \n",
    "~                    https://challenges.duckietown.org/v4/humans/submissions/SUBMISSION-NUMBER\n",
    "~        \n",
    "~                You can follow its fate using:\n",
    "~        \n",
    "~                    $ dts challenges follow --submission SUBMISSION-NUMBER\n",
    "~        \n",
    "~                You can speed up the evaluation using your own evaluator:\n",
    "~        \n",
    "~                    $ dts challenges evaluator --submission SUBMISSION-NUMBER\n",
    "~        \n",
    "~                For more information, see the manual at https://docs-old.duckietown.org/daffy/AIDO/out/\n",
    "~        \n",
    "\n",
    "```"
   ]
  },
  {
   "cell_type": "markdown",
   "metadata": {},
   "source": [
    "Congratulations, you have completed the modeling and control activities! "
   ]
  }
 ],
 "metadata": {
  "kernelspec": {
   "display_name": "Python 3.8.10 64-bit",
   "language": "python",
   "name": "python3"
  },
  "language_info": {
   "codemirror_mode": {
    "name": "ipython",
    "version": 3
   },
   "file_extension": ".py",
   "mimetype": "text/x-python",
   "name": "python",
   "nbconvert_exporter": "python",
   "pygments_lexer": "ipython3",
   "version": "3.8.10"
  },
  "metadata": {
   "interpreter": {
    "hash": "31f2aee4e71d21fbe5cf8b01ff0e069b9275f58929596ceb00d14d90e3e16cd6"
   }
  },
  "vscode": {
   "interpreter": {
    "hash": "916dbcbb3f70747c44a77c7bcd40155683ae19c65e1c03b4aa3499c5328201f1"
   }
  }
 },
 "nbformat": 4,
 "nbformat_minor": 4
}
