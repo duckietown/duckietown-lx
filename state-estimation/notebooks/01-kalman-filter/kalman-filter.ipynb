{
 "cells": [
  {
   "cell_type": "markdown",
   "metadata": {},
   "source": [
    "<p style=\"text-align: center\">\n",
    "<img src=\"../../assets/images/dtlogo.png\" alt=\"Duckietown\" width=\"50%\">\n",
    "</p>"
   ]
  },
  {
   "cell_type": "code",
   "execution_count": null,
   "metadata": {},
   "outputs": [],
   "source": [
    "%matplotlib inline\n",
    "import time\n",
    "import numpy as np\n",
    "import matplotlib.pyplot as plt"
   ]
  },
  {
   "cell_type": "markdown",
   "metadata": {},
   "source": [
    "# Kalman filter"
   ]
  },
  {
   "cell_type": "markdown",
   "metadata": {},
   "source": [
    "The Kalman filter (KF) is one of the most widely used state estimation algorithms in robotics applications. In the real world, we may already know the dynamics/kinematics of the robot that allows us to know how the state of the robot evolves over time given the initial state. Unfortunately, we always have to deal with imperfect (i.e., noisy) models for various reasons (e.g., imperfect parts, etc.).\n",
    "\n",
    "Robots typically have various sensors, and we can use these sensors to also help in estimating the state of the robot. However, sensors are also not perfect. Can we combine the data from our sensors with other models that we already have to better estimate the robot state? This is where KF can help us. If we have new data about the state of the robot, together with a measure of how informative it is (for example an associated _covariance_), we can use this new information and combine it with what we already have to make a better estimate of our state. \n",
    "\n",
    "In KF, we assume:\n",
    "1. Linear process with additive Gaussian noise $\\mathbf{x}_{t} = A_t \\mathbf{x}_{t-1} + B_t \\mathbf{u}_{t} + \\mathbf{w}_{t}$ where $\\mathbf{w}_{t} \\sim \\mathcal{N}(0, Q_t)$\n",
    "2. Linear measurement model with additive Gaussian noise $\\mathbf{z}_t = H_t \\mathbf{x}_t + \\mathbf{n}_t$ where $\\mathbf{n}_t \\sim \\mathcal{N}(0, R_t)$\n",
    "3. Gaussian prior $bel(\\mathbf{x}_0) = \\mathcal{N}(\\mu_0, \\Sigma_0)$\n",
    "\n",
    "There are two main steps that we need to perform: predict and update."
   ]
  },
  {
   "cell_type": "markdown",
   "metadata": {},
   "source": [
    "## Prediction step \n",
    "\n",
    "In the predict step we want to an obtain an estimate of $\\bar{bel}(\\mathbf{x}_{t}) = \\mathcal{N}(\\bar{\\mu}_{t}, \\bar{\\Sigma}_{t}) $. We do this with two equations, one for our mean vector and one for our covariance matrix:\n",
    "\n",
    "1. $\\bar{\\mu}_{t} = A_t\\mu_{t-1} + B_tu_{t}$\n",
    "2. $\\bar{\\Sigma}_{t} = A_t\\Sigma_{t-1}A^T + Q_t$"
   ]
  },
  {
   "cell_type": "markdown",
   "metadata": {},
   "source": [
    "\n",
    "## Update step\n",
    "\n",
    "In the update step we want to obtain an estimate of $bel(\\mathbf{x}_t) = \\mathcal{N}(\\mu_t,\\Sigma_t)$. In this case we do the following steps:\n",
    "\n",
    "1. Get measurement $\\mathbf{z}_{t}$\n",
    "2. Compute mean and covariance of the prediction residual $\\delta_{\\mu} = \\mathbf{z}_{t} - H_t\\bar{\\mu}_{t}$ and $\\delta_{\\Sigma} = H_t \\bar{\\Sigma}_{t} H_t^T + R_t$\n",
    "3. Compute Kalman gain $K_{t} = \\bar{\\Sigma}_{t} H_t^T \\delta_{\\Sigma}^{-1}$\n",
    "4. Compute mean and covariance of the belief $\\mu_{t} = \\bar{\\mu}_{t} + K_t\\delta_{\\mu}$ and $\\Sigma_{t} = \\bar{\\Sigma}_{t} - K_tH_t\\bar{\\Sigma}_{t}$\n"
   ]
  },
  {
   "cell_type": "markdown",
   "metadata": {},
   "source": [
    "\n",
    "## Example: estimating robot position with KF \n",
    "\n",
    "Consider robot moving in a room without obstacles. The robot is equipped with two sensors to measure distance between the robot and the walls, which allows the robot to measure the location of the robot (i.e., $x$ and $y$ positions) in the room. These sensors are not perfect, however the manufacturer provides us with the information that tells us how innacurate these sensors are.\n",
    "\n",
    "So, say the state of the robot is its $x$ and $y$ position in the room, and the control inputs are the velocity in each direction $v_x$ and $v_y$. The robot is initialized at $(x,y) = (0,0)$, and moves by applying constant control inputs $v_x = v_y = 1$ for 10 time steps. At each time step, after applying a control signal, the robot can take a measurement using the sensors to have an idea where the it currently is. For the sake of simplicity, assume the sensors directly return the measurement of the $(x,y)$ location in the room.\n",
    "\n",
    "Given:\n",
    "\n",
    "$$\n",
    "A_t = A =\n",
    "\\begin{bmatrix}\n",
    "1 & 0 \\\\\n",
    "0 & 1\n",
    "\\end{bmatrix}\n",
    "$$\n",
    "\n",
    "$$\n",
    "B_t = B = \n",
    "\\begin{bmatrix}\n",
    "1 & 0 \\\\\n",
    "0 & 1\n",
    "\\end{bmatrix}\n",
    "$$\n",
    "\n",
    "$$\n",
    "Q_t = Q = \n",
    "\\begin{bmatrix}\n",
    "0.3 & 0 \\\\\n",
    "0 & 0.3\n",
    "\\end{bmatrix}\n",
    "$$\n",
    "\n",
    "$$\n",
    "H_t = H = \n",
    "\\begin{bmatrix}\n",
    "1 & 0 \\\\\n",
    "0 & 1\n",
    "\\end{bmatrix}\n",
    "$$\n",
    "\n",
    "$$\n",
    "R_t = R = \n",
    "\\begin{bmatrix}\n",
    "0.75 & 0.0 \\\\\n",
    "0.0 & 0.6\n",
    "\\end{bmatrix}\n",
    "$$\n",
    "\n",
    "Let's use a Kalman filter to estimate of where the robot is."
   ]
  },
  {
   "cell_type": "markdown",
   "metadata": {},
   "source": [
    "**Understanding the problem**\n",
    "\n",
    "To understand the problem, let us plot the ideal trajectory and some possible measurements that we would get using the available sensors according to their specifications."
   ]
  },
  {
   "cell_type": "code",
   "execution_count": null,
   "metadata": {},
   "outputs": [],
   "source": [
    "# state = [x_pos, y_pos]\n",
    "num_data = 10\n",
    "ground_truth_x = np.linspace(0, 10, num=num_data + 1)\n",
    "ground_truth_y = ground_truth_x.copy() # x = y\n",
    "\n",
    "# Simulate dynamics\n",
    "x_0, y_0 = 0, 0\n",
    "xs, ys = [0], [0]\n",
    "dynamics_noise_x_var = 0.3\n",
    "dynamics_noise_y_var = 0.3\n",
    "for _ in range(10):\n",
    "    v_x, v_y = 1.0, 1.0\n",
    "    noise_x = np.random.normal(loc=0.0, scale=dynamics_noise_x_var)\n",
    "    noise_y = np.random.normal(loc=0.0, scale=dynamics_noise_y_var)\n",
    "    new_x = xs[-1] + v_x + noise_x\n",
    "    new_y = ys[-1] + v_y + noise_y\n",
    "    xs.append(new_x)\n",
    "    ys.append(new_y)\n",
    "    \n",
    "# Simulate measurements\n",
    "measurement_noise_x_var = 0.75\n",
    "measurement_noise_y_var = 0.6\n",
    "noise_x = np.random.normal(loc=0.0, scale=measurement_noise_x_var, size=num_data-1)\n",
    "noise_y = np.random.normal(loc=0.0, scale=measurement_noise_y_var, size=num_data-1)\n",
    "measurement_x = np.linspace(1, 10, num=num_data-1) + noise_x\n",
    "measurement_y = np.linspace(1, 10, num=num_data-1) + noise_y\n",
    "\n",
    "# Compare ground truth and measurements\n",
    "plt.figure(figsize=(8,8))\n",
    "plt.plot(ground_truth_x, ground_truth_y)\n",
    "plt.plot(measurement_x, measurement_y)\n",
    "plt.plot(xs, ys)\n",
    "plt.xlabel('x position')\n",
    "plt.ylabel('y position')\n",
    "plt.legend(['Actual robot trajectory', 'Estimate from measurements alone', 'Estimate from model predictions alone'])\n",
    "plt.gca().set_aspect('equal', adjustable='box')\n",
    "plt.show()"
   ]
  },
  {
   "cell_type": "markdown",
   "metadata": {},
   "source": [
    "The above plot shows the ground truth robot trajectory, as well as the estimate we get from the measurements, and the estimate that we get from the integrating forward the process model (known as dead reckoning). Our objective with the Kalman filter is to get a better estimate by fusing the dynamics estimate and measurements together. "
   ]
  },
  {
   "cell_type": "markdown",
   "metadata": {},
   "source": [
    "### Predict Step\n",
    "\n",
    "Recall the prediction step (i.e., getting $\\bar{bel}(\\mathbf{x}_{t}) = \\mathcal{N}(\\bar{\\mu}_{t}, \\bar{\\Sigma}_{t}) $):\n",
    "1. $\\bar{\\mu}_{t} = A\\mu_{t-1} + Bu_{t}$\n",
    "2. $\\bar{\\Sigma}_{t} = A\\Sigma_{t-1}A^T + Q$"
   ]
  },
  {
   "cell_type": "code",
   "execution_count": null,
   "metadata": {},
   "outputs": [],
   "source": [
    "def predict(A, B, Q, mu_t, u_t, Sigma_t):\n",
    "    predicted_mu = mu_t  # TODO Need to update\n",
    "    predicted_Sigma = Sigma_t # TODO Need to update\n",
    "    return predicted_mu, predicted_Sigma"
   ]
  },
  {
   "cell_type": "markdown",
   "metadata": {},
   "source": [
    "### Update step\n",
    "\n",
    "Recall the update step:\n",
    "1. Get measurement $\\mathbf{z}_{t}$\n",
    "2. Compute mean and covariance of the prediction residual $\\delta_{\\mu} = \\mathbf{z}_{t} - H\\bar{\\mu}_{t}$ and $\\delta_{\\Sigma} = H \\bar{\\Sigma}_{t} H^T + R$\n",
    "3. Compute Kalman gain $K_{t} = \\bar{\\Sigma}_{t} H^T \\delta_{\\Sigma}^{-1}$\n",
    "4. Compute mean and covariance of the belief $\\mu_{t} = \\bar{\\mu}_{t} + K\\delta_{\\mu}$ and $\\Sigma_{t} = \\bar{\\Sigma}_{t} - KH\\bar{\\Sigma}_{t}$"
   ]
  },
  {
   "cell_type": "code",
   "execution_count": null,
   "metadata": {},
   "outputs": [],
   "source": [
    "def update(H, R, z, predicted_mu, predicted_Sigma):\n",
    "    updated_mu = predicted_mu # TODO Need to update\n",
    "    updated_Sigma = predicted_Sigma # TODO Need to update\n",
    "    return updated_mu, updated_Sigma"
   ]
  },
  {
   "cell_type": "markdown",
   "metadata": {},
   "source": [
    "Let's run our Kalman filter!"
   ]
  },
  {
   "cell_type": "code",
   "execution_count": null,
   "metadata": {},
   "outputs": [],
   "source": [
    "# Initialize the problem\n",
    "mu_0 = np.array([0, 0])\n",
    "Sigma_0 = np.array([[0.1, 0],\n",
    "                     [0, 0.1]]) # We're pretty certain about bel_0\n",
    "A = np.array([[1, 0],\n",
    "              [0, 1]])\n",
    "B = np.array([[1, 0],\n",
    "              [0, 1]])\n",
    "Q = np.array([[0.3, 0],\n",
    "              [0, 0.3]])\n",
    "H = np.array([[1, 0],\n",
    "              [0, 1]])\n",
    "R = np.array([[measurement_noise_x_var, 0],\n",
    "              [0, measurement_noise_y_var]])\n",
    "\n",
    "# Initialize empty lists for mus and measurements for plotting\n",
    "measurements = []\n",
    "filtered_mus = []\n",
    "\n",
    "# Run KF for each time step\n",
    "mu_current = mu_0.copy()\n",
    "Sigma_current = Sigma_0.copy()\n",
    "for i in range(num_data-1):\n",
    "    u_t = np.array([1, 1])\n",
    "    \n",
    "    # Predict step\n",
    "    predicted_mu, predicted_Sigma = predict(A, B, Q, \n",
    "                                            mu_current, u_t, \n",
    "                                            Sigma_current)\n",
    "    \n",
    "    # Get measurement (irl, get this from our sensor)\n",
    "    measurement_noise_x = np.random.normal(loc=0.0, scale=measurement_noise_x_var)\n",
    "    measurement_noise_y = np.random.normal(loc=0.0, scale=measurement_noise_y_var)\n",
    "    measurement_x_new = ground_truth_x[i+1] + measurement_noise_x\n",
    "    measurement_y_new = ground_truth_x[i+1] + measurement_noise_y\n",
    "    z = np.array([measurement_x_new, measurement_y_new])\n",
    "    \n",
    "    # The rest of update step\n",
    "    mu_current, Sigma_current = update(H, R, z, \n",
    "                                   predicted_mu, \n",
    "                                   predicted_Sigma)\n",
    "    \n",
    "    # Store measurements and mu_current so we can plot it later\n",
    "    measurements.append([measurement_x_new, measurement_y_new])\n",
    "    filtered_mus.append(mu_current)\n",
    "\n",
    "# Just for plotting purposes, convert the lists to array \n",
    "measurements = np.array(measurements)\n",
    "filtered_mus = np.array(filtered_mus) "
   ]
  },
  {
   "cell_type": "code",
   "execution_count": null,
   "metadata": {},
   "outputs": [],
   "source": [
    "# Let's plot the results\n",
    "\n",
    "plt.figure(figsize=(8,8))\n",
    "plt.plot(ground_truth_x, ground_truth_y)\n",
    "plt.plot(measurements[:,0], measurements[:,1])\n",
    "plt.plot(xs, ys)\n",
    "plt.plot(filtered_mus[:,0], filtered_mus[:,1])\n",
    "plt.xlabel('x position')\n",
    "plt.ylabel('y position')\n",
    "plt.legend(['Actual robot trajectory', 'Estimate from measurements alone', 'Estimate from dynamics alone', 'Estimate fused from Kalman Filter'])\n",
    "plt.gca().set_aspect('equal', adjustable='box')\n",
    "plt.show()"
   ]
  },
  {
   "cell_type": "markdown",
   "metadata": {},
   "source": [
    "You should  see that the KF is able to fuse all of the information together and give us a better final estimate of the robot trajectory."
   ]
  }
 ],
 "metadata": {
  "kernelspec": {
   "display_name": "Python 3.8.10 64-bit",
   "language": "python",
   "name": "python3"
  },
  "language_info": {
   "codemirror_mode": {
    "name": "ipython",
    "version": 3
   },
   "file_extension": ".py",
   "mimetype": "text/x-python",
   "name": "python",
   "nbconvert_exporter": "python",
   "pygments_lexer": "ipython3",
   "version": "3.8.10"
  },
  "vscode": {
   "interpreter": {
    "hash": "916dbcbb3f70747c44a77c7bcd40155683ae19c65e1c03b4aa3499c5328201f1"
   }
  }
 },
 "nbformat": 4,
 "nbformat_minor": 4
}
