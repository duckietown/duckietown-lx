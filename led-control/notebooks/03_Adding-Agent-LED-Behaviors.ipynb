{
 "cells": [
  {
   "cell_type": "markdown",
   "metadata": {},
   "source": [
    "<p align=\"center\">\n",
    "<img src=\"../assets/images/dtlogo.png\" alt=\"Duckietown Logo\" width=\"50%\">\n",
    "</p>"
   ]
  },
  {
   "cell_type": "markdown",
   "metadata": {},
   "source": [
    "# Using LED Patterns in Agents\n",
    "\n",
    "In this notebook, we will define the behavior of a custom ROS package - `led_publisher`.  \n",
    "\n",
    "This node will use the `LEDPattern` messages you construct to command the Duckiebot LEDS to fade through a series of colors.\n",
    "\n",
    "<p align=\"center\">\n",
    "<img src=\"../assets/images/green_red.jpg\" alt=\"Duckietown LEDs Green and Red\" width=\"33%\">\n",
    "</p>\n",
    "\n",
    "---"
   ]
  },
  {
   "cell_type": "markdown",
   "metadata": {},
   "source": [
    "## Step 1: Understand the `led_publisher` node\n",
    "\n",
    "You can find a simplified version of the `led_publisher` node that will run on your Duckiebot and define the LED behavior in `/packages/examples/led_publisher_node_example.py`.\n",
    "\n",
    "Read the comments in this file for an explanation of what you will build in this activity.\n",
    "\n",
    "**Note:** This file is just for reference. Changing the code here will not change the behavior of your Duckiebot."
   ]
  },
  {
   "cell_type": "markdown",
   "metadata": {},
   "source": [
    "## Step 2: Create the message\n",
    "\n",
    "Now open the `/packages/solution/publish_leds.py` file.  This is where you will complete the activity for this notebook.\n",
    "\n",
    "Complete the **TODO** in the  `construct_led_message` function and run the following cell to see your updates."
   ]
  },
  {
   "cell_type": "code",
   "execution_count": null,
   "metadata": {},
   "outputs": [],
   "source": [
    "# Check out the message you defined\n",
    "from duckietown_msgs.msg import LEDPattern\n",
    "from solution.publish_leds import construct_led_message\n",
    "\n",
    "# Create an LEDPattern message\n",
    "message: LEDPattern = construct_led_message()\n",
    "\n",
    "# Use the built in __str__ method to print the components of the message\n",
    "print(message.__str__)"
   ]
  },
  {
   "cell_type": "markdown",
   "metadata": {},
   "source": [
    "## Step 3: Fade through colors on the Duckiebot LEDs\n",
    "\n",
    "When you run the workbench for this activity on your Duckiebot, it will launch the `led_publisher` node, which uses the `set_leds_color` function to fade through a series of colors on the Duckiebot LEDs.\n",
    "\n",
    "### Complete the Activity\n",
    "\n",
    "First, complete the **TODO**s in the `set_leds_color` function.\n",
    "\n",
    "Then open the test interface (under the *Beaker* icon on the left), and select *Run Tests* to ensure that the function passes the unit tests for this activity.  This will ensure that the your solution behaves as the `led_publisher` node expects.\n",
    "\n",
    "### Run the Workbench\n",
    "\n",
    "To start the node on your Duckiebot, first run\n",
    "\n",
    "    dts code workbench -b <your_duckiebot>\n",
    "\n",
    "Then use the LED shortcut on the Desktop to start sending the LEDPattern messages to the *led_driver* node on your Duckiebot.\n",
    "\n",
    "You should see the LEDs slowly fade through each color defined in the color map."
   ]
  },
  {
   "cell_type": "markdown",
   "metadata": {},
   "source": [
    "## Next Up: Experiment with LEDs in your own Duckiebot projects\n",
    "\n",
    "Congrats!  You can now communicate with the LED on your Duckiebot from any ROS node.  Enjoy making your Duckiebot shine."
   ]
  }
 ],
 "metadata": {
  "kernelspec": {
   "display_name": "Python 3 (ipykernel)",
   "language": "python",
   "name": "python3"
  },
  "language_info": {
   "codemirror_mode": {
    "name": "ipython",
    "version": 3
   },
   "file_extension": ".py",
   "mimetype": "text/x-python",
   "name": "python",
   "nbconvert_exporter": "python",
   "pygments_lexer": "ipython3",
   "version": "3.8.10"
  },
  "vscode": {
   "interpreter": {
    "hash": "916dbcbb3f70747c44a77c7bcd40155683ae19c65e1c03b4aa3499c5328201f1"
   }
  }
 },
 "nbformat": 4,
 "nbformat_minor": 2
}
